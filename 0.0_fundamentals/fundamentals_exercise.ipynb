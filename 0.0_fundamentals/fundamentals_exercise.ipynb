{
 "cells": [
  {
   "cell_type": "markdown",
   "metadata": {},
   "source": [
    "## Exercise 0.0 :\n",
    "\n",
    "---------------------------------------------------------------------------------\n",
    "\n",
    "- Documentation reading - A big part of deep learning (and learning to code in general) is getting familiar with the documentation of a certain framework you're using. We'll be using the PyTorch documentation a lot throughout the rest of this course. So I'd recommend spending 10-minutes reading the following (it's okay if you don't get some things for now, the focus is not yet full understanding, it's awareness). See the documentation on torch.Tensor and for torch.cuda.\n",
    "- Create a random tensor with shape (7, 7).\n",
    "- Perform a matrix multiplication on the tensor from 2 with another random tensor with shape (1, 7) (hint: you may have to transpose the second tensor).\n",
    "- Set the random seed to 0 and do exercises 2 & 3 over again.\n",
    "- Speaking of random seeds, we saw how to set it with torch.manual_seed() but is there a GPU equivalent? (hint: you'll need to look into the documentation for torch.cuda for this one). If there is, set the GPU random seed to 1234.\n",
    "- Create two random tensors of shape (2, 3) and send them both to the GPU (you'll need access to a GPU for this)\n",
    "- Set torch.manual_seed(1234) when creating the tensors (this doesn't have to be the GPU random seed).\n",
    "- Perform a matrix multiplication on the tensors you created in 6 (again, you may have to adjust the shapes of one of the tensors).\n",
    "- Find the maximum and minimum values of the output of 7.\n",
    "- Find the maximum and minimum index values of the output of 7.\n",
    "- Make a random tensor with shape (1, 1, 1, 10) and then create a new tensor with all the 1 dimensions removed to be left with a tensor of shape (10). Set the seed to 7 when you create it and print out the first tensor and it's shape as well as the second tensor and it's shape"
   ]
  },
  {
   "cell_type": "code",
   "execution_count": 10,
   "metadata": {},
   "outputs": [],
   "source": [
    "import torch\n",
    "import numpy as np"
   ]
  },
  {
   "cell_type": "code",
   "execution_count": 11,
   "metadata": {},
   "outputs": [
    {
     "data": {
      "text/plain": [
       "tensor([[0.8549, 0.5509, 0.2868, 0.2063, 0.4451, 0.3593, 0.7204],\n",
       "        [0.0731, 0.9699, 0.1078, 0.8829, 0.4132, 0.7572, 0.6948],\n",
       "        [0.5209, 0.5932, 0.8797, 0.6286, 0.7653, 0.1132, 0.8559],\n",
       "        [0.6721, 0.6267, 0.5691, 0.7437, 0.9592, 0.3887, 0.2214],\n",
       "        [0.3742, 0.1953, 0.7405, 0.2529, 0.2332, 0.9314, 0.9575],\n",
       "        [0.5575, 0.4134, 0.4355, 0.7369, 0.0331, 0.0914, 0.8994],\n",
       "        [0.9936, 0.4703, 0.1049, 0.5137, 0.2674, 0.4990, 0.7447]])"
      ]
     },
     "execution_count": 11,
     "metadata": {},
     "output_type": "execute_result"
    }
   ],
   "source": [
    "# Create a random tensor with shape (7, 7).\n",
    "tens1 = torch.rand(7, 7)\n",
    "tens1"
   ]
  },
  {
   "cell_type": "code",
   "execution_count": 12,
   "metadata": {},
   "outputs": [
    {
     "data": {
      "text/plain": [
       "tensor([[1.6914],\n",
       "        [1.7581],\n",
       "        [2.0906],\n",
       "        [1.8975],\n",
       "        [1.7585],\n",
       "        [1.7961],\n",
       "        [1.8900]])"
      ]
     },
     "execution_count": 12,
     "metadata": {},
     "output_type": "execute_result"
    }
   ],
   "source": [
    "# Perform a matrix multiplication on the tensor from 2 with another random tensor with shape (1, 7)\n",
    "tens2 = torch.rand(1, 7)\n",
    "product = torch.mm(tens1, tens2.T)\n",
    "product"
   ]
  },
  {
   "cell_type": "code",
   "execution_count": 13,
   "metadata": {},
   "outputs": [
    {
     "data": {
      "text/plain": [
       "tensor([[1.8542],\n",
       "        [1.9611],\n",
       "        [2.2884],\n",
       "        [3.0481],\n",
       "        [1.7067],\n",
       "        [2.5290],\n",
       "        [1.7989]])"
      ]
     },
     "execution_count": 13,
     "metadata": {},
     "output_type": "execute_result"
    }
   ],
   "source": [
    "# Set the random seed to 0 and do exercises 2 & 3 over again.\n",
    "torch.manual_seed(0)\n",
    "tens1 = torch.rand(7, 7)\n",
    "tens2 = torch.rand(1, 7)\n",
    "product = torch.mm(tens1, tens2.T)\n",
    "product"
   ]
  },
  {
   "cell_type": "code",
   "execution_count": 14,
   "metadata": {},
   "outputs": [],
   "source": [
    "# set the GPU random seed to 1234.\n",
    "torch.cuda.manual_seed(1234)"
   ]
  },
  {
   "cell_type": "code",
   "execution_count": 15,
   "metadata": {},
   "outputs": [
    {
     "data": {
      "text/plain": [
       "(tensor([[0.0290, 0.4019, 0.2598],\n",
       "         [0.3666, 0.0583, 0.7006]]),\n",
       " tensor([[0.0518, 0.4681, 0.6738],\n",
       "         [0.3315, 0.7837, 0.5631]]))"
      ]
     },
     "execution_count": 15,
     "metadata": {},
     "output_type": "execute_result"
    }
   ],
   "source": [
    "# Create two random tensors of shape (2, 3) and send them both to the GPU\n",
    "torch.manual_seed(1234)\n",
    "tens3 = torch.rand(2, 3)\n",
    "tens4 = torch.rand(2, 3)\n",
    "# tens3 = tens3.cuda()\n",
    "# tens4 = tens4.cuda()\n",
    "tens3, tens4"
   ]
  },
  {
   "cell_type": "code",
   "execution_count": 16,
   "metadata": {},
   "outputs": [
    {
     "data": {
      "text/plain": [
       "(tensor([[0.3647, 0.4709],\n",
       "         [0.5184, 0.5617]]),\n",
       " torch.float32)"
      ]
     },
     "execution_count": 16,
     "metadata": {},
     "output_type": "execute_result"
    }
   ],
   "source": [
    "# Perform a matrix multiplication on the tensors you created in 6\n",
    "prod2 = torch.mm(tens3, tens4.T)\n",
    "prod2, prod2.dtype"
   ]
  },
  {
   "cell_type": "code",
   "execution_count": 17,
   "metadata": {},
   "outputs": [
    {
     "name": "stdout",
     "output_type": "stream",
     "text": [
      "THE MAXIMUM VALUE IS: 0.5617256760597229\n",
      "THE MINIMUM VALUE IS: 0.3647301495075226\n"
     ]
    }
   ],
   "source": [
    "# Find the maximum and minimum values of the output of 7.\n",
    "max = torch.max(prod2)\n",
    "print(f\"THE MAXIMUM VALUE IS: {max}\")\n",
    "# print(max.dtype)\n",
    "# Find the maximum and minimum index values of the output of 7.\n",
    "min = torch.min(prod2)\n",
    "print(f\"THE MINIMUM VALUE IS: {min}\")"
   ]
  },
  {
   "cell_type": "code",
   "execution_count": 18,
   "metadata": {},
   "outputs": [
    {
     "name": "stdout",
     "output_type": "stream",
     "text": [
      "THE SIZE OF THE TENSOR BEFORE SQUEEZING : torch.Size([1, 1, 1, 10])\n",
      "THE SIZE OF THE TENSOR AFTER SQUEEZING : torch.Size([10])\n"
     ]
    }
   ],
   "source": [
    "# Make a random tensor with shape (1, 1, 1, 10) and\n",
    "# then create a new tensor with all the 1 dimensions removed to be left with a tensor of shape (10).\n",
    "# Set the seed to 7 when you create it and print out the first tensor and it's shape as well as the second tensor and it's shape.\n",
    "torch.manual_seed(7)\n",
    "tens5 = torch.rand(size=(1, 1, 1, 10))\n",
    "squeezed_tens = np.squeeze(tens5)\n",
    "print(f\"THE SIZE OF THE TENSOR BEFORE SQUEEZING : {tens5.shape}\")\n",
    "print(f\"THE SIZE OF THE TENSOR AFTER SQUEEZING : {squeezed_tens.shape}\")"
   ]
  }
 ],
 "metadata": {
  "kernelspec": {
   "display_name": "Python 3",
   "language": "python",
   "name": "python3"
  },
  "language_info": {
   "codemirror_mode": {
    "name": "ipython",
    "version": 3
   },
   "file_extension": ".py",
   "mimetype": "text/x-python",
   "name": "python",
   "nbconvert_exporter": "python",
   "pygments_lexer": "ipython3",
   "version": "3.10.11"
  }
 },
 "nbformat": 4,
 "nbformat_minor": 2
}
