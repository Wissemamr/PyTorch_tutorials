{
 "cells": [
  {
   "cell_type": "markdown",
   "metadata": {},
   "source": [
    "### Exercise 01 : PyTorch workflow\n",
    "\n",
    "\n",
    "1. Create a straight line dataset using the linear regression formula (weight * X + bias).\n",
    "- Set weight=0.3 and bias=0.9 there should be at least 100 datapoints total.\n",
    "- Split the data into 80% training, 20% testing.\n",
    "- Plot the training and testing data so it becomes visual.\n",
    "2. Build a PyTorch model by subclassing nn.Module.\n",
    "- Inside should be a randomly initialized nn.Parameter() with requires_grad=True, one for weights and one for bias.\n",
    "- Implement the forward() method to compute the linear regression function you used to create the dataset in 1.\n",
    "Once you've constructed the model, make an instance of it and check its state_dict().\n",
    "- Note: If you'd like to use nn.Linear() instead of nn.Parameter() you can.\n",
    "3. Create a loss function and optimizer using nn.L1Loss() and torch.optim.SGD(params, lr) respectively.\n",
    "- Set the learning rate of the optimizer to be 0.01 and the parameters to optimize should be the model parameters from the model you created in 2.\n",
    "- Write a training loop to perform the appropriate training steps for 300 epochs.\n",
    "- The training loop should test the model on the test dataset every 20 epochs.\n",
    "4. Make predictions with the trained model on the test data.\n",
    "- Visualize these predictions against the original training and testing data \n",
    "(note: you may need to make sure the predictions are not on the GPU if you want to use non-CUDA-enabled libraries such as matplotlib to plot).\n",
    "5. Save your trained model's state_dict() to file.\n",
    "- Create a new instance of your model class you made in 2. and load in the state_dict() you just saved to it.\n",
    "Perform predictions on your test data with the loaded model and confirm they match the original model predictions from 4.\n",
    "\n"
   ]
  },
  {
   "cell_type": "code",
   "execution_count": 2,
   "metadata": {},
   "outputs": [
    {
     "name": "stdout",
     "output_type": "stream",
     "text": [
      "2.1.1+cpu\n"
     ]
    }
   ],
   "source": [
    "import torch \n",
    "from torch import nn\n",
    "import matplotlib.pyplot as plt\n",
    "print(torch.__version__)"
   ]
  },
  {
   "cell_type": "code",
   "execution_count": 3,
   "metadata": {},
   "outputs": [
    {
     "name": "stdout",
     "output_type": "stream",
     "text": [
      "There are 100 data points\n"
     ]
    }
   ],
   "source": [
    "#  Set weight=0.3 and bias=0.9 there should be at least 100 datapoints total.\n",
    "\n",
    "torch.manual_seed(42)\n",
    "DEBUG : bool = True\n",
    "weight = 0.3 ; bias = 0.3\n",
    "\n",
    "start = 0\n",
    "end = 1\n",
    "step = 0.01\n",
    "\n",
    "X = torch.arange(start, end, step).unsqueeze(dim=1)\n",
    "if DEBUG : print(f'There are {len(X)} data points')\n",
    "y = X * weight + bias\n",
    "\n"
   ]
  },
  {
   "cell_type": "code",
   "execution_count": 4,
   "metadata": {},
   "outputs": [
    {
     "name": "stdout",
     "output_type": "stream",
     "text": [
      "torch.Size([80, 1]) torch.Size([80, 1])\n",
      "torch.Size([20, 1]) torch.Size([20, 1])\n"
     ]
    }
   ],
   "source": [
    "# Split the data into 80% training, 20% testing.\n",
    "train_split_idx = int((80*len(X))/100)\n",
    "X_train , y_train = X[:train_split_idx], y[:train_split_idx]\n",
    "if DEBUG : print(X_train.shape, y_train.shape)\n",
    "X_test , y_test = X[train_split_idx:], y[train_split_idx:]\n",
    "if DEBUG : print(X_test.shape, y_test.shape)"
   ]
  },
  {
   "cell_type": "code",
   "execution_count": 5,
   "metadata": {},
   "outputs": [],
   "source": [
    "#  Plot the training and testing data so it becomes visual.\n",
    "\n",
    "def plot_predictions(train_data= X_train ,\n",
    "                     train_labels= y_train, \n",
    "                     test_data= X_test,\n",
    "                     test_labels=y_test,\n",
    "                     predictions=None):\n",
    "    plt.figure(figsize=(8, 6))\n",
    "\n",
    "    plt.scatter(train_data, train_labels, c='magenta', s=5, label='Training data')\n",
    "    plt.scatter(test_data, test_labels, c='blue', s=5, label='Testing data')\n",
    "    \n",
    "    # plot predictions\n",
    "    if predictions is not None :\n",
    "        plt.scatter(test_data, predictions , c='green', s=5, label='Predictions'  )\n",
    "    \n",
    "    plt.legend()\n",
    "    plt.show()\n",
    "        "
   ]
  },
  {
   "cell_type": "code",
   "execution_count": 6,
   "metadata": {},
   "outputs": [
    {
     "data": {
      "image/png": "[encoded data removed]",
      "text/plain": [
       "<Figure size 800x600 with 1 Axes>"
      ]
     },
     "metadata": {},
     "output_type": "display_data"
    }
   ],
   "source": [
    "plot_predictions()"
   ]
  },
  {
   "cell_type": "code",
   "execution_count": 7,
   "metadata": {},
   "outputs": [],
   "source": [
    "# Inside should be a randomly initialized nn.Parameter() with requires_grad=True, one for weights and one for bias.\n",
    "\n",
    "torch.manual_seed(42)\n",
    "class WLinearRegressionModel(nn.Module):\n",
    "    def __init__(self):\n",
    "        super().__init__()\n",
    "        self.weights = nn.Parameter(torch.randn(1, dtype=torch.float32), requires_grad= True)\n",
    "        self.biais = nn.Parameter(torch.randn(1,dtype =torch.float32), requires_grad = True)\n",
    "        \n",
    "# ALTERNATIVE with nn.Linear\n",
    "        \n",
    "# Implement the forward() method to compute the linear regression function you used to create the dataset in 1.\n",
    "    def forward(self, x : torch.tensor) -> torch.tensor :\n",
    "        return X * self.weights + self.biais\n",
    "        "
   ]
  },
  {
   "cell_type": "code",
   "execution_count": 8,
   "metadata": {},
   "outputs": [
    {
     "name": "stdout",
     "output_type": "stream",
     "text": [
      "OrderedDict([('weights', tensor([0.3367])), ('biais', tensor([0.1288]))])\n"
     ]
    }
   ],
   "source": [
    "w_model = WLinearRegressionModel()\n",
    "print(w_model.state_dict())"
   ]
  },
  {
   "cell_type": "code",
   "execution_count": null,
   "metadata": {},
   "outputs": [],
   "source": [
    "# Create a l1 loss function and optimizer"
   ]
  },
  {
   "cell_type": "code",
   "execution_count": null,
   "metadata": {},
   "outputs": [],
   "source": []
  },
  {
   "cell_type": "code",
   "execution_count": null,
   "metadata": {},
   "outputs": [],
   "source": []
  },
  {
   "cell_type": "code",
   "execution_count": null,
   "metadata": {},
   "outputs": [],
   "source": []
  },
  {
   "cell_type": "code",
   "execution_count": null,
   "metadata": {},
   "outputs": [],
   "source": []
  },
  {
   "cell_type": "code",
   "execution_count": null,
   "metadata": {},
   "outputs": [],
   "source": []
  },
  {
   "cell_type": "code",
   "execution_count": null,
   "metadata": {},
   "outputs": [],
   "source": []
  },
  {
   "cell_type": "code",
   "execution_count": null,
   "metadata": {},
   "outputs": [],
   "source": []
  },
  {
   "cell_type": "code",
   "execution_count": null,
   "metadata": {},
   "outputs": [],
   "source": []
  },
  {
   "cell_type": "code",
   "execution_count": null,
   "metadata": {},
   "outputs": [],
   "source": []
  },
  {
   "cell_type": "code",
   "execution_count": null,
   "metadata": {},
   "outputs": [],
   "source": []
  },
  {
   "cell_type": "code",
   "execution_count": null,
   "metadata": {},
   "outputs": [],
   "source": []
  },
  {
   "cell_type": "code",
   "execution_count": null,
   "metadata": {},
   "outputs": [],
   "source": []
  },
  {
   "cell_type": "code",
   "execution_count": null,
   "metadata": {},
   "outputs": [],
   "source": []
  },
  {
   "cell_type": "code",
   "execution_count": null,
   "metadata": {},
   "outputs": [],
   "source": []
  },
  {
   "cell_type": "code",
   "execution_count": null,
   "metadata": {},
   "outputs": [],
   "source": []
  },
  {
   "cell_type": "code",
   "execution_count": null,
   "metadata": {},
   "outputs": [],
   "source": []
  },
  {
   "cell_type": "code",
   "execution_count": null,
   "metadata": {},
   "outputs": [],
   "source": []
  }
 ],
 "metadata": {
  "kernelspec": {
   "display_name": "Python 3",
   "language": "python",
   "name": "python3"
  },
  "language_info": {
   "codemirror_mode": {
    "name": "ipython",
    "version": 3
   },
   "file_extension": ".py",
   "mimetype": "text/x-python",
   "name": "python",
   "nbconvert_exporter": "python",
   "pygments_lexer": "ipython3",
   "version": "3.10.11"
  }
 },
 "nbformat": 4,
 "nbformat_minor": 2
}
